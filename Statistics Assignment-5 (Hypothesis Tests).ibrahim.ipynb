{
  "nbformat": 4,
  "nbformat_minor": 0,
  "metadata": {
    "colab": {
      "name": "Untitled6.ipynb",
      "provenance": []
    },
    "kernelspec": {
      "name": "python3",
      "display_name": "Python 3"
    },
    "language_info": {
      "name": "python"
    }
  },
  "cells": [
    {
      "cell_type": "code",
      "source": [
        "import pandas as pd\n",
        "import numpy as np\n",
        "import seaborn as sns\n",
        "import scipy as sp\n",
        "from scipy import stats\n",
        "import math\n",
        "import matplotlib.pyplot as plt\n",
        "import warnings\n",
        "warnings.filterwarnings(\"ignore\")"
      ],
      "metadata": {
        "id": "WVQYR0ClolqN"
      },
      "execution_count": 3,
      "outputs": []
    },
    {
      "cell_type": "markdown",
      "source": [
        "EXERCISE 1. The hourly wages in a particular industry are normally distributed with mean 13.20 (dollars) and standard deviation 2.50 (dollars). A company in this industry employs 40 workers, paying them an average of 12.20 per hour. Can this company be accused of paying substandard wages? Use an α = .01 level test. (Wackerly, Ex.10.18)"
      ],
      "metadata": {
        "id": "9Mt2AuxloNd4"
      }
    },
    {
      "cell_type": "code",
      "source": [
        ""
      ],
      "metadata": {
        "id": "wpq8F5proktf"
      },
      "execution_count": null,
      "outputs": []
    },
    {
      "cell_type": "code",
      "source": [
        "n = 40\n",
        "sigma = 2.50\n",
        "mu = 13.20\n",
        "xbar = 12.20"
      ],
      "metadata": {
        "id": "1t-saxHpoQLv"
      },
      "execution_count": 4,
      "outputs": []
    },
    {
      "cell_type": "markdown",
      "source": [
        "Testing Hypothesis Using z score"
      ],
      "metadata": {
        "id": "QzM0PutcoWe1"
      }
    },
    {
      "cell_type": "code",
      "source": [
        "z_test = (xbar - mu) / (sigma / np.sqrt(n))\n",
        "z_test\n",
        "\n",
        "# Zx = -2.5298221281347035"
      ],
      "metadata": {
        "colab": {
          "base_uri": "https://localhost:8080/"
        },
        "id": "pcUXPVzyoRlV",
        "outputId": "370977e4-d95f-4172-b403-bd53b81efefd"
      },
      "execution_count": 5,
      "outputs": [
        {
          "output_type": "execute_result",
          "data": {
            "text/plain": [
              "-2.5298221281347035"
            ]
          },
          "metadata": {},
          "execution_count": 5
        }
      ]
    },
    {
      "cell_type": "code",
      "source": [
        "Zα = -2.325"
      ],
      "metadata": {
        "id": "TNJR1Fn-ojdt"
      },
      "execution_count": 6,
      "outputs": []
    },
    {
      "cell_type": "code",
      "source": [
        "Zα = -2.325  # Zα : z_test\n",
        "\n",
        "if z_test < Zα:\n",
        "    print(\"Reject the Null\")\n",
        "else:\n",
        "    print(\"Fail to reject Null\")"
      ],
      "metadata": {
        "colab": {
          "base_uri": "https://localhost:8080/"
        },
        "id": "uIvtXw9xoRoa",
        "outputId": "70df37df-fe14-41d2-db09-760e1dd0d57e"
      },
      "execution_count": 7,
      "outputs": [
        {
          "output_type": "stream",
          "name": "stdout",
          "text": [
            "Reject the Null\n"
          ]
        }
      ]
    },
    {
      "cell_type": "markdown",
      "source": [
        "Testing Hypothesis Using p value"
      ],
      "metadata": {
        "id": "hBK2hyR_oz9v"
      }
    },
    {
      "cell_type": "code",
      "source": [
        "z_test = (xbar - mu) / (sigma / np.sqrt(n))\n",
        "z_test"
      ],
      "metadata": {
        "colab": {
          "base_uri": "https://localhost:8080/"
        },
        "id": "yxYNHsTYoRrt",
        "outputId": "b36b1aa8-91e4-464e-f249-3b0010b68b07"
      },
      "execution_count": 8,
      "outputs": [
        {
          "output_type": "execute_result",
          "data": {
            "text/plain": [
              "-2.5298221281347035"
            ]
          },
          "metadata": {},
          "execution_count": 8
        }
      ]
    },
    {
      "cell_type": "code",
      "source": [
        "pvalue = stats.norm.cdf(z_test) # left side area\n",
        "pvalue"
      ],
      "metadata": {
        "colab": {
          "base_uri": "https://localhost:8080/"
        },
        "id": "6ppZgYsUo35V",
        "outputId": "0a7c4486-3c57-4a95-ff94-985599729d08"
      },
      "execution_count": 9,
      "outputs": [
        {
          "output_type": "execute_result",
          "data": {
            "text/plain": [
              "0.005706018193000826"
            ]
          },
          "metadata": {},
          "execution_count": 9
        }
      ]
    },
    {
      "cell_type": "code",
      "source": [
        "# Comparing \"p_value\" with \"α\" value\n",
        " \n",
        "alpha = 0.01   # (α = 1% --> 1-99%) it is given in the question\n",
        "\n",
        "if pvalue < alpha:\n",
        "    print(\"Reject the Null\")\n",
        "else:\n",
        "    print(\"Fail to reject\")"
      ],
      "metadata": {
        "colab": {
          "base_uri": "https://localhost:8080/"
        },
        "id": "sJcg_xzfo38v",
        "outputId": "c21ae3e1-fd59-4b20-f44d-198ac117c8fe"
      },
      "execution_count": 10,
      "outputs": [
        {
          "output_type": "stream",
          "name": "stdout",
          "text": [
            "Reject the Null\n"
          ]
        }
      ]
    },
    {
      "cell_type": "markdown",
      "source": [
        "EXERCISE 2.Shear strength measurements derived from unconfined compression tests for two types of soils gave the results shown in the following document (measurements in tons per square foot). Do the soils appear to differ with respect to average shear strength, at the 1% significance level?"
      ],
      "metadata": {
        "id": "vPmqNmAVo9Rk"
      }
    },
    {
      "cell_type": "code",
      "source": [
        "α = 0.01"
      ],
      "metadata": {
        "id": "_0UrVJJMo3_4"
      },
      "execution_count": 11,
      "outputs": []
    },
    {
      "cell_type": "code",
      "source": [
        "dfsoil = pd.read_csv(\"soil - Sheet1.csv\", sep = \",\")"
      ],
      "metadata": {
        "id": "i8J8IAkJpDGz"
      },
      "execution_count": 19,
      "outputs": []
    },
    {
      "cell_type": "code",
      "source": [
        "dfsoil.head()"
      ],
      "metadata": {
        "colab": {
          "base_uri": "https://localhost:8080/",
          "height": 206
        },
        "id": "nR8Tt1NopDJ8",
        "outputId": "f7991301-9d46-42e4-a697-0db670eb522e"
      },
      "execution_count": 20,
      "outputs": [
        {
          "output_type": "execute_result",
          "data": {
            "text/html": [
              "\n",
              "  <div id=\"df-9381b2e6-b7b6-41ef-a291-e085ac25bec3\">\n",
              "    <div class=\"colab-df-container\">\n",
              "      <div>\n",
              "<style scoped>\n",
              "    .dataframe tbody tr th:only-of-type {\n",
              "        vertical-align: middle;\n",
              "    }\n",
              "\n",
              "    .dataframe tbody tr th {\n",
              "        vertical-align: top;\n",
              "    }\n",
              "\n",
              "    .dataframe thead th {\n",
              "        text-align: right;\n",
              "    }\n",
              "</style>\n",
              "<table border=\"1\" class=\"dataframe\">\n",
              "  <thead>\n",
              "    <tr style=\"text-align: right;\">\n",
              "      <th></th>\n",
              "      <th>Soil1</th>\n",
              "      <th>Soil2</th>\n",
              "    </tr>\n",
              "  </thead>\n",
              "  <tbody>\n",
              "    <tr>\n",
              "      <th>0</th>\n",
              "      <td>1.442</td>\n",
              "      <td>1.364</td>\n",
              "    </tr>\n",
              "    <tr>\n",
              "      <th>1</th>\n",
              "      <td>1.943</td>\n",
              "      <td>1.878</td>\n",
              "    </tr>\n",
              "    <tr>\n",
              "      <th>2</th>\n",
              "      <td>1.110</td>\n",
              "      <td>1.337</td>\n",
              "    </tr>\n",
              "    <tr>\n",
              "      <th>3</th>\n",
              "      <td>1.912</td>\n",
              "      <td>1.828</td>\n",
              "    </tr>\n",
              "    <tr>\n",
              "      <th>4</th>\n",
              "      <td>1.553</td>\n",
              "      <td>1.371</td>\n",
              "    </tr>\n",
              "  </tbody>\n",
              "</table>\n",
              "</div>\n",
              "      <button class=\"colab-df-convert\" onclick=\"convertToInteractive('df-9381b2e6-b7b6-41ef-a291-e085ac25bec3')\"\n",
              "              title=\"Convert this dataframe to an interactive table.\"\n",
              "              style=\"display:none;\">\n",
              "        \n",
              "  <svg xmlns=\"http://www.w3.org/2000/svg\" height=\"24px\"viewBox=\"0 0 24 24\"\n",
              "       width=\"24px\">\n",
              "    <path d=\"M0 0h24v24H0V0z\" fill=\"none\"/>\n",
              "    <path d=\"M18.56 5.44l.94 2.06.94-2.06 2.06-.94-2.06-.94-.94-2.06-.94 2.06-2.06.94zm-11 1L8.5 8.5l.94-2.06 2.06-.94-2.06-.94L8.5 2.5l-.94 2.06-2.06.94zm10 10l.94 2.06.94-2.06 2.06-.94-2.06-.94-.94-2.06-.94 2.06-2.06.94z\"/><path d=\"M17.41 7.96l-1.37-1.37c-.4-.4-.92-.59-1.43-.59-.52 0-1.04.2-1.43.59L10.3 9.45l-7.72 7.72c-.78.78-.78 2.05 0 2.83L4 21.41c.39.39.9.59 1.41.59.51 0 1.02-.2 1.41-.59l7.78-7.78 2.81-2.81c.8-.78.8-2.07 0-2.86zM5.41 20L4 18.59l7.72-7.72 1.47 1.35L5.41 20z\"/>\n",
              "  </svg>\n",
              "      </button>\n",
              "      \n",
              "  <style>\n",
              "    .colab-df-container {\n",
              "      display:flex;\n",
              "      flex-wrap:wrap;\n",
              "      gap: 12px;\n",
              "    }\n",
              "\n",
              "    .colab-df-convert {\n",
              "      background-color: #E8F0FE;\n",
              "      border: none;\n",
              "      border-radius: 50%;\n",
              "      cursor: pointer;\n",
              "      display: none;\n",
              "      fill: #1967D2;\n",
              "      height: 32px;\n",
              "      padding: 0 0 0 0;\n",
              "      width: 32px;\n",
              "    }\n",
              "\n",
              "    .colab-df-convert:hover {\n",
              "      background-color: #E2EBFA;\n",
              "      box-shadow: 0px 1px 2px rgba(60, 64, 67, 0.3), 0px 1px 3px 1px rgba(60, 64, 67, 0.15);\n",
              "      fill: #174EA6;\n",
              "    }\n",
              "\n",
              "    [theme=dark] .colab-df-convert {\n",
              "      background-color: #3B4455;\n",
              "      fill: #D2E3FC;\n",
              "    }\n",
              "\n",
              "    [theme=dark] .colab-df-convert:hover {\n",
              "      background-color: #434B5C;\n",
              "      box-shadow: 0px 1px 3px 1px rgba(0, 0, 0, 0.15);\n",
              "      filter: drop-shadow(0px 1px 2px rgba(0, 0, 0, 0.3));\n",
              "      fill: #FFFFFF;\n",
              "    }\n",
              "  </style>\n",
              "\n",
              "      <script>\n",
              "        const buttonEl =\n",
              "          document.querySelector('#df-9381b2e6-b7b6-41ef-a291-e085ac25bec3 button.colab-df-convert');\n",
              "        buttonEl.style.display =\n",
              "          google.colab.kernel.accessAllowed ? 'block' : 'none';\n",
              "\n",
              "        async function convertToInteractive(key) {\n",
              "          const element = document.querySelector('#df-9381b2e6-b7b6-41ef-a291-e085ac25bec3');\n",
              "          const dataTable =\n",
              "            await google.colab.kernel.invokeFunction('convertToInteractive',\n",
              "                                                     [key], {});\n",
              "          if (!dataTable) return;\n",
              "\n",
              "          const docLinkHtml = 'Like what you see? Visit the ' +\n",
              "            '<a target=\"_blank\" href=https://colab.research.google.com/notebooks/data_table.ipynb>data table notebook</a>'\n",
              "            + ' to learn more about interactive tables.';\n",
              "          element.innerHTML = '';\n",
              "          dataTable['output_type'] = 'display_data';\n",
              "          await google.colab.output.renderOutput(dataTable, element);\n",
              "          const docLink = document.createElement('div');\n",
              "          docLink.innerHTML = docLinkHtml;\n",
              "          element.appendChild(docLink);\n",
              "        }\n",
              "      </script>\n",
              "    </div>\n",
              "  </div>\n",
              "  "
            ],
            "text/plain": [
              "   Soil1  Soil2\n",
              "0  1.442  1.364\n",
              "1  1.943  1.878\n",
              "2  1.110  1.337\n",
              "3  1.912  1.828\n",
              "4  1.553  1.371"
            ]
          },
          "metadata": {},
          "execution_count": 20
        }
      ]
    },
    {
      "cell_type": "code",
      "source": [
        "dfsoil.shape\n",
        "\n",
        "# 35 rows and 2 columns"
      ],
      "metadata": {
        "colab": {
          "base_uri": "https://localhost:8080/"
        },
        "id": "MtiWDjUTpDMt",
        "outputId": "81bbedbd-6912-4874-9d53-da19d804166d"
      },
      "execution_count": 22,
      "outputs": [
        {
          "output_type": "execute_result",
          "data": {
            "text/plain": [
              "(35, 2)"
            ]
          },
          "metadata": {},
          "execution_count": 22
        }
      ]
    },
    {
      "cell_type": "code",
      "source": [
        "dfsoil[\"Soil1\"].mean()"
      ],
      "metadata": {
        "colab": {
          "base_uri": "https://localhost:8080/"
        },
        "id": "kZHuULpaqdRI",
        "outputId": "3ae3225e-09f7-44e9-afa8-d567abd32fcf"
      },
      "execution_count": 21,
      "outputs": [
        {
          "output_type": "execute_result",
          "data": {
            "text/plain": [
              "1.6918"
            ]
          },
          "metadata": {},
          "execution_count": 21
        }
      ]
    },
    {
      "cell_type": "code",
      "source": [
        "dfsoil[\"Soil2\"].mean()"
      ],
      "metadata": {
        "colab": {
          "base_uri": "https://localhost:8080/"
        },
        "id": "-YQQnqdyqdUj",
        "outputId": "96e04f13-f929-4bba-87d0-bd98efa85d16"
      },
      "execution_count": 23,
      "outputs": [
        {
          "output_type": "execute_result",
          "data": {
            "text/plain": [
              "1.4171142857142855"
            ]
          },
          "metadata": {},
          "execution_count": 23
        }
      ]
    },
    {
      "cell_type": "code",
      "source": [
        "stats.ttest_ind(dfsoil[\"Soil1\"], dfsoil[\"Soil2\"])"
      ],
      "metadata": {
        "colab": {
          "base_uri": "https://localhost:8080/"
        },
        "id": "WTii7CDKqdXV",
        "outputId": "fac8516b-18c6-40e8-ed2c-51af5d726448"
      },
      "execution_count": 24,
      "outputs": [
        {
          "output_type": "execute_result",
          "data": {
            "text/plain": [
              "Ttest_indResult(statistic=nan, pvalue=nan)"
            ]
          },
          "metadata": {},
          "execution_count": 24
        }
      ]
    },
    {
      "cell_type": "code",
      "source": [
        "dfsoil.isnull().value_counts()"
      ],
      "metadata": {
        "colab": {
          "base_uri": "https://localhost:8080/"
        },
        "id": "Vzr39uPkqdaX",
        "outputId": "20902d69-e028-4706-aaf1-69d06feff5c7"
      },
      "execution_count": 25,
      "outputs": [
        {
          "output_type": "execute_result",
          "data": {
            "text/plain": [
              "Soil1  Soil2\n",
              "False  False    30\n",
              "True   False     5\n",
              "dtype: int64"
            ]
          },
          "metadata": {},
          "execution_count": 25
        }
      ]
    },
    {
      "cell_type": "code",
      "source": [
        "dfsoil.info()"
      ],
      "metadata": {
        "id": "ALxpLc80quyW"
      },
      "execution_count": null,
      "outputs": []
    },
    {
      "cell_type": "code",
      "source": [
        "dfsoil.isnull()"
      ],
      "metadata": {
        "id": "cNJ4aew7qu1V"
      },
      "execution_count": null,
      "outputs": []
    },
    {
      "cell_type": "code",
      "source": [
        "# ttest_ind() function gives the statistics for the Independent Two-sample test (for the mean)\n",
        "\n",
        "indTest = stats.ttest_ind(dfsoil[\"Soil1\"], dfsoil[\"Soil2\"], nan_policy='omit')\n",
        "\n",
        "indTest"
      ],
      "metadata": {
        "id": "IZu-sJVBqu4A"
      },
      "execution_count": null,
      "outputs": []
    },
    {
      "cell_type": "code",
      "source": [
        "indTest1 = stats.ttest_ind(dfsoil.dropna()[\"Soil1\"], dfsoil.dropna()[\"Soil2\"])\n",
        "\n",
        "indTest1"
      ],
      "metadata": {
        "id": "-M5n17dCq4BG"
      },
      "execution_count": null,
      "outputs": []
    },
    {
      "cell_type": "code",
      "source": [
        "indTest"
      ],
      "metadata": {
        "id": "_b95XgkZq4ES"
      },
      "execution_count": null,
      "outputs": []
    },
    {
      "cell_type": "code",
      "source": [
        "indTest.pvalue"
      ],
      "metadata": {
        "id": "PEXW1MeYq4HP"
      },
      "execution_count": null,
      "outputs": []
    },
    {
      "cell_type": "code",
      "source": [
        "# Comparing p value\n",
        "\n",
        "alpha = 0.01      # alpha/2 = 0.005\n",
        "\n",
        "if indTest.pvalue < alpha/2:\n",
        "    print(\"Reject the Null\")\n",
        "else:\n",
        "    print(\"Fail to reject\")"
      ],
      "metadata": {
        "id": "bWT2ddfPq4Ku"
      },
      "execution_count": null,
      "outputs": []
    },
    {
      "cell_type": "code",
      "source": [
        "neg_t_005 = stats.t.ppf(0.005, 63)  # negative t-score of significant level for α = 0.01\n",
        "\n",
        "neg_t_005"
      ],
      "metadata": {
        "id": "VGljZsjaq4OV"
      },
      "execution_count": null,
      "outputs": []
    },
    {
      "cell_type": "code",
      "source": [
        "pozt005 = stats.t.ppf(0.995, 63) # positive t-score of significant level for α = 0.01\n",
        "\n",
        "pozt005"
      ],
      "metadata": {
        "id": "AIrfL64pq4Sa"
      },
      "execution_count": null,
      "outputs": []
    },
    {
      "cell_type": "code",
      "source": [
        "dfsoil.describe()"
      ],
      "metadata": {
        "id": "Q8VAdQYvrINN"
      },
      "execution_count": null,
      "outputs": []
    },
    {
      "cell_type": "code",
      "source": [
        "s1 = dfsoil['Soil1'].std()\n",
        "s1"
      ],
      "metadata": {
        "id": "VoK4cz9mrIQF"
      },
      "execution_count": null,
      "outputs": []
    },
    {
      "cell_type": "code",
      "source": [
        "s2 = dfsoil['Soil2'].std()\n",
        "s2"
      ],
      "metadata": {
        "id": "vXQLIpQtrISw"
      },
      "execution_count": null,
      "outputs": []
    },
    {
      "cell_type": "code",
      "source": [
        "mean1 = dfsoil['Soil1'].mean()\n",
        "mean1"
      ],
      "metadata": {
        "id": "y8bTT__YrIWr"
      },
      "execution_count": null,
      "outputs": []
    },
    {
      "cell_type": "code",
      "source": [
        "mean2 = dfsoil['Soil2'].mean()\n",
        "mean2"
      ],
      "metadata": {
        "id": "YxmzRcJKrOxN"
      },
      "execution_count": null,
      "outputs": []
    },
    {
      "cell_type": "code",
      "source": [
        "n1 = 30\n",
        "\n",
        "mean1 = 1.6918\n",
        "\n",
        "s1 = 0.20690284243310084\n",
        "\n",
        "n2 = 35\n",
        "\n",
        "mean2 = 1.4171142857142858\n",
        "\n",
        "s2 = 0.219184"
      ],
      "metadata": {
        "id": "PSaKn9XqrO0R"
      },
      "execution_count": null,
      "outputs": []
    },
    {
      "cell_type": "code",
      "source": [
        "(1.691800 - 1.4171142857142858) / math.sqrt((((29*s1**2) + (34*s2**2)) / 65) * ((1/29)+(1/34)))"
      ],
      "metadata": {
        "id": "FnUK-cuhrO3A"
      },
      "execution_count": null,
      "outputs": []
    },
    {
      "cell_type": "code",
      "source": [
        "t = (mean1 - mean2) / math.sqrt((s1**2/30) + (s2**2/35))\n",
        "t"
      ],
      "metadata": {
        "id": "OyzeQvKPrO6H"
      },
      "execution_count": null,
      "outputs": []
    },
    {
      "cell_type": "code",
      "source": [
        "squareds1 = dfsoil[\"Soil1\"].std()**2\n",
        "\n",
        "squareds2 = dfsoil[\"Soil2\"].std()**2"
      ],
      "metadata": {
        "id": "DjGZ4z8lrO81"
      },
      "execution_count": null,
      "outputs": []
    },
    {
      "cell_type": "code",
      "source": [
        "t = (1.691800 - 1.4171142857142858) / math.sqrt((squareds1/30) + (squareds2/35))\n",
        "t"
      ],
      "metadata": {
        "id": "eqw1ETPlrXkE"
      },
      "execution_count": null,
      "outputs": []
    },
    {
      "cell_type": "code",
      "source": [
        "# comparing t-value with critical value\n",
        "\n",
        "critical_value = 2.575\n",
        "\n",
        "if t > critical_value:\n",
        "    print(\"Reject the Null\")\n",
        "else:\n",
        "    print(\"Fail to reject\")"
      ],
      "metadata": {
        "id": "QyquoB8xrXnB"
      },
      "execution_count": null,
      "outputs": []
    },
    {
      "cell_type": "markdown",
      "source": [
        "EXERCISE 3. The following dataset is based on data provided by the World Bank (https://datacatalog.worldbank.org/dataset/education-statistics). World Bank Edstats. 2015 PISA Test Dataset\n",
        "\n",
        "(i) Get descriptive statistics (the central tendency, dispersion and shape of a dataset’s distribution) for each continent group (AS, EU, AF, NA, SA, OC).\n",
        "\n",
        "(ii) Determine whether there is any difference (on the average) for the math scores among European (EU) and Asian (AS) countries (assume normality and equal variances). Draw side-by-side box plots.\n",
        "\n",
        "CHECK: statistic=0.870055317967983, pvalue=0.38826888111307345"
      ],
      "metadata": {
        "id": "7iql_c-ErbuM"
      }
    },
    {
      "cell_type": "code",
      "source": [
        "# PISA Test Dataset\n",
        "\n",
        "dfpisa = pd.read_csv(\"2015 PISA Test - Sheet1.csv\", sep = \",\")\n",
        "\n",
        "dfpisa.head()"
      ],
      "metadata": {
        "id": "wsjZHVo_rXp3"
      },
      "execution_count": null,
      "outputs": []
    },
    {
      "cell_type": "code",
      "source": [
        "dfpisa.sample(20)"
      ],
      "metadata": {
        "id": "uOzf0ctyrXsZ"
      },
      "execution_count": null,
      "outputs": []
    },
    {
      "cell_type": "code",
      "source": [
        "dfpisa[dfpisa['Continent_Code'].isnull()==True]"
      ],
      "metadata": {
        "id": "jG6Xnw8jrmUn"
      },
      "execution_count": null,
      "outputs": []
    },
    {
      "cell_type": "code",
      "source": [
        "dfpisa['Continent_Code'].fillna(value='NA', inplace = True)"
      ],
      "metadata": {
        "id": "cXTPCMktrmYX"
      },
      "execution_count": null,
      "outputs": []
    },
    {
      "cell_type": "code",
      "source": [
        "dfpisa[dfpisa['Continent_Code']=='NA'].head(10)"
      ],
      "metadata": {
        "id": "yfpf7QWorma7"
      },
      "execution_count": null,
      "outputs": []
    },
    {
      "cell_type": "code",
      "source": [
        "dfpisa.shape"
      ],
      "metadata": {
        "id": "UdT8CEp5rrMV"
      },
      "execution_count": null,
      "outputs": []
    },
    {
      "cell_type": "code",
      "source": [
        "dfpisa.describe()  # for all continents"
      ],
      "metadata": {
        "id": "8alkrPmorrPw"
      },
      "execution_count": null,
      "outputs": []
    },
    {
      "cell_type": "code",
      "source": [
        "dfpisa.Continent_Code.unique()"
      ],
      "metadata": {
        "id": "t1UEutperrUb"
      },
      "execution_count": null,
      "outputs": []
    },
    {
      "cell_type": "code",
      "source": [
        "# First of all let's see how distribute the PISA scores for all over the world.\n",
        "\n",
        "fig, axes = plt.subplots(1,4, figsize=(20,6))\n",
        "\n",
        "sns.histplot(dfpisa['internet_users_per_100'], kde=True, ax=axes[0])\n",
        "sns.histplot(dfpisa['Math'], kde=True, ax=axes[1])\n",
        "sns.histplot(dfpisa['Reading'], kde=True, ax=axes[2])\n",
        "sns.histplot(dfpisa['Science'], kde=True, ax=axes[3]);"
      ],
      "metadata": {
        "id": "UF_81dcfrrXt"
      },
      "execution_count": null,
      "outputs": []
    },
    {
      "cell_type": "code",
      "source": [
        "dfEU = dfpisa[dfpisa[\"Continent_Code\"]==\"EU\"]\n",
        "dfEU.head()"
      ],
      "metadata": {
        "id": "1-St_DDMryNX"
      },
      "execution_count": null,
      "outputs": []
    },
    {
      "cell_type": "code",
      "source": [
        "dfpisa[dfpisa[\"Continent_Code\"]==\"EU\"].describe()"
      ],
      "metadata": {
        "id": "hLKB89nfryRJ"
      },
      "execution_count": null,
      "outputs": []
    },
    {
      "cell_type": "code",
      "source": [
        "dfEU.shape"
      ],
      "metadata": {
        "id": "WussXAfQr24t"
      },
      "execution_count": null,
      "outputs": []
    },
    {
      "cell_type": "code",
      "source": [
        "dfEU.var()"
      ],
      "metadata": {
        "id": "a2ZwYkE6r28P"
      },
      "execution_count": null,
      "outputs": []
    },
    {
      "cell_type": "code",
      "source": [
        "# to confirm if math std came from describe is true.\n",
        "\n",
        "np.sqrt(1235.550805)"
      ],
      "metadata": {
        "id": "E4QplF7Rr2_s"
      },
      "execution_count": null,
      "outputs": []
    },
    {
      "cell_type": "code",
      "source": [
        "dfEU.boxplot(figsize=(10,6));"
      ],
      "metadata": {
        "id": "aGn36sT-ryTf"
      },
      "execution_count": null,
      "outputs": []
    },
    {
      "cell_type": "code",
      "source": [
        "fig, axs = plt.subplots(2, 2, figsize=(12, 12))\n",
        "\n",
        "sns.histplot(data=dfEU, x=\"internet_users_per_100\", kde=True, color=\"skyblue\", ax=axs[0, 0])\n",
        "sns.histplot(data=dfEU, x=\"Math\", kde=True, color=\"olive\", ax=axs[0, 1])\n",
        "sns.histplot(data=dfEU, x=\"Reading\", kde=True, color=\"gold\", ax=axs[1, 0])\n",
        "sns.histplot(data=dfEU, x=\"Science\", kde=True, color=\"teal\", ax=axs[1, 1]);"
      ],
      "metadata": {
        "id": "8NGGb-pUr820"
      },
      "execution_count": null,
      "outputs": []
    },
    {
      "cell_type": "code",
      "source": [
        "dfEU.hist(figsize=[14,8]);"
      ],
      "metadata": {
        "id": "Bvw0Z9dor86J"
      },
      "execution_count": null,
      "outputs": []
    },
    {
      "cell_type": "code",
      "source": [
        "dfAS = dfpisa[dfpisa[\"Continent_Code\"]==\"AS\"]\n",
        "dfAS"
      ],
      "metadata": {
        "id": "YKzidMhtr88_"
      },
      "execution_count": null,
      "outputs": []
    },
    {
      "cell_type": "code",
      "source": [
        "dfAS.shape"
      ],
      "metadata": {
        "id": "yDsqHPupr9Ar"
      },
      "execution_count": null,
      "outputs": []
    },
    {
      "cell_type": "code",
      "source": [
        "dfAS.describe()"
      ],
      "metadata": {
        "id": "pUnAszapr9EO"
      },
      "execution_count": null,
      "outputs": []
    },
    {
      "cell_type": "code",
      "source": [
        "dfAS.var()"
      ],
      "metadata": {
        "id": "pIKVu3iVsEjZ"
      },
      "execution_count": null,
      "outputs": []
    },
    {
      "cell_type": "code",
      "source": [
        "dfAS.boxplot(figsize=(10, 6));"
      ],
      "metadata": {
        "id": "EnTSycZYsEnM"
      },
      "execution_count": null,
      "outputs": []
    },
    {
      "cell_type": "code",
      "source": [
        "fig = plt.subplots(figsize=(8, 6))\n",
        "\n",
        "sns.boxplot(data=dfAS);"
      ],
      "metadata": {
        "id": "CZ6GAiIjsEqr"
      },
      "execution_count": null,
      "outputs": []
    },
    {
      "cell_type": "code",
      "source": [
        "fig, axs = plt.subplots(2, 2, figsize=(10, 10))\n",
        "\n",
        "sns.histplot(data=dfAS, x=\"internet_users_per_100\", kde=True, color=\"skyblue\", ax=axs[0, 0])\n",
        "sns.histplot(data=dfAS, x=\"Math\", kde=True, color=\"olive\", ax=axs[0, 1])\n",
        "sns.histplot(data=dfAS, x=\"Reading\", kde=True, color=\"gold\", ax=axs[1, 0])\n",
        "sns.histplot(data=dfAS, x=\"Science\", kde=True, color=\"teal\", ax=axs[1, 1]);"
      ],
      "metadata": {
        "id": "V5yB79FBsEuF"
      },
      "execution_count": null,
      "outputs": []
    },
    {
      "cell_type": "code",
      "source": [
        "dfAS.hist(figsize=[14,8]);"
      ],
      "metadata": {
        "id": "CMGiiYDKsK0i"
      },
      "execution_count": null,
      "outputs": []
    },
    {
      "cell_type": "code",
      "source": [
        "dfpisa[dfpisa[\"Continent_Code\"]==\"AS\"].describe()"
      ],
      "metadata": {
        "id": "IrAVd1b_sK4Q"
      },
      "execution_count": null,
      "outputs": []
    },
    {
      "cell_type": "code",
      "source": [
        "dfSA = dfpisa[dfpisa[\"Continent_Code\"]==\"SA\"]\n",
        "dfSA"
      ],
      "metadata": {
        "id": "QS-o2aXBsN52"
      },
      "execution_count": null,
      "outputs": []
    },
    {
      "cell_type": "code",
      "source": [
        "dfSA.shape"
      ],
      "metadata": {
        "id": "3ZE4KYdOsN88"
      },
      "execution_count": null,
      "outputs": []
    },
    {
      "cell_type": "code",
      "source": [
        "dfSA.describe()"
      ],
      "metadata": {
        "id": "KcpHmiT-sOAN"
      },
      "execution_count": null,
      "outputs": []
    },
    {
      "cell_type": "code",
      "source": [
        "dfSA.var()"
      ],
      "metadata": {
        "id": "IzXJSyI3sK68"
      },
      "execution_count": null,
      "outputs": []
    },
    {
      "cell_type": "code",
      "source": [
        "dfSA.boxplot(figsize=(10, 6));"
      ],
      "metadata": {
        "id": "fHVgTmqjsS98"
      },
      "execution_count": null,
      "outputs": []
    },
    {
      "cell_type": "code",
      "source": [
        "fig = plt.subplots(figsize= (24,6))\n",
        "\n",
        "sns.boxplot(data=dfSA, orient=\"h\");"
      ],
      "metadata": {
        "id": "JqPXKq1esTDL"
      },
      "execution_count": null,
      "outputs": []
    },
    {
      "cell_type": "code",
      "source": [
        "fig, axs = plt.subplots(2, 2, figsize=(10, 10))\n",
        "\n",
        "sns.histplot(data=dfSA, x=\"internet_users_per_100\", kde=True, color=\"skyblue\", ax=axs[0, 0])\n",
        "sns.histplot(data=dfSA, x=\"Math\", kde=True, color=\"olive\", ax=axs[0, 1])\n",
        "sns.histplot(data=dfSA, x=\"Reading\", kde=True, color=\"gold\", ax=axs[1, 0])\n",
        "sns.histplot(data=dfSA, x=\"Science\", kde=True, color=\"teal\", ax=axs[1, 1]);"
      ],
      "metadata": {
        "id": "0TjRkgo3sTFt"
      },
      "execution_count": null,
      "outputs": []
    },
    {
      "cell_type": "code",
      "source": [
        "dfSA.hist(figsize=[14,8]);"
      ],
      "metadata": {
        "id": "2RrdagEwsXpb"
      },
      "execution_count": null,
      "outputs": []
    },
    {
      "cell_type": "code",
      "source": [
        "dfAF = dfpisa[dfpisa[\"Continent_Code\"]==\"AF\"]\n",
        "dfAF"
      ],
      "metadata": {
        "id": "eJ9jDDK-sXss"
      },
      "execution_count": null,
      "outputs": []
    },
    {
      "cell_type": "code",
      "source": [
        "dfAF.describe()"
      ],
      "metadata": {
        "id": "8ddx4stMsXvj"
      },
      "execution_count": null,
      "outputs": []
    },
    {
      "cell_type": "code",
      "source": [
        "dfAF.shape"
      ],
      "metadata": {
        "id": "vSUh_M6OsiNM"
      },
      "execution_count": null,
      "outputs": []
    },
    {
      "cell_type": "code",
      "source": [
        "dfAF.var()"
      ],
      "metadata": {
        "id": "tx3j-w0ssiQX"
      },
      "execution_count": null,
      "outputs": []
    },
    {
      "cell_type": "code",
      "source": [
        "dfAF.boxplot(figsize=(10, 6));"
      ],
      "metadata": {
        "id": "WJ4ku57bsiUT"
      },
      "execution_count": null,
      "outputs": []
    },
    {
      "cell_type": "code",
      "source": [
        "dfAF3columns = dfAF[[\"Math\", \"Reading\", \"Science\"]]\n",
        "dfAF3columns"
      ],
      "metadata": {
        "id": "EWeVQD0OsiXZ"
      },
      "execution_count": null,
      "outputs": []
    },
    {
      "cell_type": "code",
      "source": [
        "dfAFinternet = dfAF[[\"internet_users_per_100\"]]\n",
        "dfAFinternet"
      ],
      "metadata": {
        "id": "cdYK45pnsidr"
      },
      "execution_count": null,
      "outputs": []
    },
    {
      "cell_type": "code",
      "source": [
        "fig, axes = plt.subplots(1,2, figsize=(20,4))\n",
        "\n",
        "sns.boxplot(data=dfAFinternet, orient='h', ax=axes[0], color=\"skyblue\").set(title='Internet Users in AF')\n",
        "sns.boxplot(data=dfAF3columns, orient='h', ax=axes[1], color=\"skyblue\").set(title='PISA Math, Reading & Science Scores in AF')\n",
        "\n",
        "axes[0].set(xlabel='internet users per 100 in AF')\n",
        "axes[1].set(xlabel='Math, Reading & Science Scores in AF');"
      ],
      "metadata": {
        "id": "9tBx0Zlqso1e"
      },
      "execution_count": null,
      "outputs": []
    },
    {
      "cell_type": "code",
      "source": [
        "fig, axs = plt.subplots(2, 2, figsize=(10, 10))\n",
        "\n",
        "sns.histplot(data=dfAF, x=\"internet_users_per_100\", kde=True, color=\"skyblue\", ax=axs[0, 0])\n",
        "sns.histplot(data=dfAF, x=\"Math\", kde=True, color=\"olive\", ax=axs[0, 1])\n",
        "sns.histplot(data=dfAF, x=\"Reading\", kde=True, color=\"gold\", ax=axs[1, 0])\n",
        "sns.histplot(data=dfAF, x=\"Science\", kde=True, color=\"teal\", ax=axs[1, 1]);"
      ],
      "metadata": {
        "id": "Wc2hESeEso49"
      },
      "execution_count": null,
      "outputs": []
    },
    {
      "cell_type": "code",
      "source": [
        "dfAF.hist(figsize=[14,8]);"
      ],
      "metadata": {
        "id": "kkBxInocso94"
      },
      "execution_count": null,
      "outputs": []
    },
    {
      "cell_type": "code",
      "source": [
        "sns.pairplot(dfpisa, hue = 'Continent_Code', corner = True);"
      ],
      "metadata": {
        "id": "QYLszxYJspA2"
      },
      "execution_count": null,
      "outputs": []
    },
    {
      "cell_type": "code",
      "source": [
        "dfpisa.hist();"
      ],
      "metadata": {
        "id": "t7rAEbCwsuO5"
      },
      "execution_count": null,
      "outputs": []
    },
    {
      "cell_type": "code",
      "source": [
        "The null hypothesis that the population means of the two groups are not significantly different (H0: μA = μB)\n",
        "\n",
        "The alternative hypothesis is (H0: μA ≠ μB)"
      ],
      "metadata": {
        "id": "LVo-DLm9suR5"
      },
      "execution_count": null,
      "outputs": []
    },
    {
      "cell_type": "code",
      "source": [
        "# With using nan_policy='omit'. \n",
        "# In this study we will use this t value found by nan_policy='omit'.\n",
        "\n",
        "statistic, pvalue = stats.ttest_ind(dfEU.Math, dfAS.Math, nan_policy='omit')  # independet T test\n",
        "\n",
        "statistic, pvalue"
      ],
      "metadata": {
        "id": "JKhxxPMmsuVi"
      },
      "execution_count": null,
      "outputs": []
    },
    {
      "cell_type": "code",
      "source": [
        "EU = dfpisa[dfpisa['Continent_Code']=='EU'].Math\n",
        "AS = dfpisa[dfpisa['Continent_Code']=='AS'].Math\n",
        "Mathstatistic, Mathpvalue = stats.ttest_ind(EU, AS, nan_policy='omit')   # independent T test\n",
        "\n",
        "Mathstatistic, Mathpvalue \n",
        "\n",
        "## CHECK: statistic=0.870055317967983, pvalue=0.38826888111307345"
      ],
      "metadata": {
        "id": "O8OLmmBPs05R"
      },
      "execution_count": null,
      "outputs": []
    },
    {
      "cell_type": "code",
      "source": [
        "critical_pvalue = 0.025\n",
        "\n",
        "if Mathpvalue < critical_pvalue:\n",
        "    print(\"Reject the Null\")\n",
        "else:\n",
        "    print(\"Fail to reject\")"
      ],
      "metadata": {
        "id": "PXsPlaGys08o"
      },
      "execution_count": null,
      "outputs": []
    },
    {
      "cell_type": "code",
      "source": [
        "dfEU.Math.describe()"
      ],
      "metadata": {
        "id": "NiY0LXDYs0_Q"
      },
      "execution_count": null,
      "outputs": []
    },
    {
      "cell_type": "code",
      "source": [
        "dfAS.Math.describe()"
      ],
      "metadata": {
        "id": "QGgwOEb6s1C7"
      },
      "execution_count": null,
      "outputs": []
    },
    {
      "cell_type": "code",
      "source": [
        "mathmeandiff = (dfEU.Math.mean()) - (dfAS.Math.mean())\n",
        "\n",
        "mathmeandiff"
      ],
      "metadata": {
        "id": "DCICzwUks1Fw"
      },
      "execution_count": null,
      "outputs": []
    },
    {
      "cell_type": "code",
      "source": [
        "fig, axes = plt.subplots(1,2, figsize=(12,3))\n",
        "\n",
        "sns.boxplot(dfEU['Math'], ax=axes[0]).set(title='PISA Math Scores in EU')\n",
        "sns.boxplot(dfAS['Math'], ax=axes[1]).set(title='PISA Math Scores in AS')\n",
        "\n",
        "axes[0].set(xlabel='Math Scores in EU')\n",
        "axes[1].set(xlabel='Math Scores in AS');"
      ],
      "metadata": {
        "id": "wFm0Wmc1s-c7"
      },
      "execution_count": null,
      "outputs": []
    },
    {
      "cell_type": "code",
      "source": [
        "plt.figure(figsize=(6,6))\n",
        "plt.boxplot([dfEU['Math'],dfAS['Math']], showmeans=True, widths = 0.4)\n",
        "\n",
        "plt.title('PISA Scores by Math')\n",
        "plt.ylabel('Math Scores')\n",
        "plt.xticks([1, 2], ['Europe', 'Asia'])\n",
        "y_ticks = np.arange(300, 600, 20)\n",
        "plt.yticks(y_ticks)"
      ],
      "metadata": {
        "id": "oGdpWiOvs-gW"
      },
      "execution_count": null,
      "outputs": []
    },
    {
      "cell_type": "markdown",
      "source": [
        "EXERCISE 4.The sample dataset has placement test scores (out of 100 points) for four subject areas: English, Reading, Math, and Writing. Students in the sample completed all 4 placement tests when they enrolled in the university. Suppose we are particularly interested in the English and Math sections, and want to determine whether students tended to score higher on their English or Math test, on average. We could use a paired t test to test if there was a significant difference in the average of the two tests.\n",
        "\n",
        "CHECK: statistic=36.312568981719856, pvalue=3.0710987192210606e-128"
      ],
      "metadata": {
        "id": "bBVUQ0c-tCoi"
      }
    },
    {
      "cell_type": "code",
      "source": [
        "# Placement Test Scores\n",
        "\n",
        "dfscores = pd.read_csv(\"students_2014.csv\", sep = \",\", na_values = \".\", index_col = 0)"
      ],
      "metadata": {
        "id": "Y5eMn-12s-jN"
      },
      "execution_count": null,
      "outputs": []
    },
    {
      "cell_type": "code",
      "source": [
        "dfscores.sample(10)"
      ],
      "metadata": {
        "id": "rVuryTAds-ly"
      },
      "execution_count": null,
      "outputs": []
    },
    {
      "cell_type": "code",
      "source": [
        "dfscores.shape"
      ],
      "metadata": {
        "id": "rXM8z6bVtIJ4"
      },
      "execution_count": null,
      "outputs": []
    },
    {
      "cell_type": "code",
      "source": [
        "dfscores[[\"English\", \"Math\"]].isnull().value_counts()\n",
        "\n",
        "# English has 24+2 = 26 Null values and Math has 11+2 =13 Null values"
      ],
      "metadata": {
        "id": "NyKZv7eRtIO0"
      },
      "execution_count": null,
      "outputs": []
    },
    {
      "cell_type": "code",
      "source": [
        "# Drop NaN data \n",
        "\n",
        "dfscoresdrop = dfscores[[\"English\", \"Math\"]].dropna() "
      ],
      "metadata": {
        "id": "-Jg4yy-ItITE"
      },
      "execution_count": null,
      "outputs": []
    },
    {
      "cell_type": "code",
      "source": [
        "dfscoresdrop.isnull().value_counts()"
      ],
      "metadata": {
        "id": "uMzwgjv6tNtP"
      },
      "execution_count": null,
      "outputs": []
    },
    {
      "cell_type": "code",
      "source": [
        "dfscores[[\"English\", \"Math\"]]"
      ],
      "metadata": {
        "id": "WVP9_SBgtNyI"
      },
      "execution_count": null,
      "outputs": []
    },
    {
      "cell_type": "code",
      "source": [
        "dfscoresdrop"
      ],
      "metadata": {
        "id": "bQtMqTPTtN2o"
      },
      "execution_count": null,
      "outputs": []
    },
    {
      "cell_type": "code",
      "source": [
        "dfscores[[\"English\", \"Math\"]].describe()"
      ],
      "metadata": {
        "id": "mXdYbw4mtN5m"
      },
      "execution_count": null,
      "outputs": []
    },
    {
      "cell_type": "code",
      "source": [
        "dfscores['English'].std()"
      ],
      "metadata": {
        "id": "M13gtqFBtS-v"
      },
      "execution_count": null,
      "outputs": []
    },
    {
      "cell_type": "code",
      "source": [
        "dfscores['English'].var()"
      ],
      "metadata": {
        "id": "Q7HpcWedtTB_"
      },
      "execution_count": null,
      "outputs": []
    },
    {
      "cell_type": "code",
      "source": [
        "dfscores['Math'].std()"
      ],
      "metadata": {
        "id": "5SFdWrLEtTFy"
      },
      "execution_count": null,
      "outputs": []
    },
    {
      "cell_type": "code",
      "source": [
        "dfscores['Math'].var()"
      ],
      "metadata": {
        "id": "VyQXf4WStWVD"
      },
      "execution_count": null,
      "outputs": []
    },
    {
      "cell_type": "code",
      "source": [
        "Englishmean =dfscores['English'].mean()\n",
        "Englishmean"
      ],
      "metadata": {
        "id": "8YMazCxytWYW"
      },
      "execution_count": null,
      "outputs": []
    },
    {
      "cell_type": "code",
      "source": [
        "Mathmean = dfscores['Math'].mean()\n",
        "Mathmean"
      ],
      "metadata": {
        "id": "LMuRk05LtWa7"
      },
      "execution_count": null,
      "outputs": []
    },
    {
      "cell_type": "code",
      "source": [
        "Xmeandiff = Englishmean - Mathmean\n",
        "Xmeandiff"
      ],
      "metadata": {
        "id": "4d4ByyN6tWdd"
      },
      "execution_count": null,
      "outputs": []
    },
    {
      "cell_type": "code",
      "source": [
        "#With using dropna()\n",
        "\n",
        "stats.ttest_ind(dfscores.dropna()[\"English\"], dfscores.dropna()[\"Math\"])"
      ],
      "metadata": {
        "id": "kUd1Gqyttd4X"
      },
      "execution_count": null,
      "outputs": []
    },
    {
      "cell_type": "code",
      "source": [
        "# With using nan_policy='omit'. In this study we will use this t value found by nan_policy='omit'.\n",
        "\n",
        "paired = stats.ttest_rel(dfscores[\"English\"], dfscores[\"Math\"], nan_policy='omit')\n",
        "paired"
      ],
      "metadata": {
        "id": "28gW6cRjtd7u"
      },
      "execution_count": null,
      "outputs": []
    },
    {
      "cell_type": "code",
      "source": [
        "tscores = paired.statistic\n",
        "tscores"
      ],
      "metadata": {
        "id": "oC9TyuSRtd-d"
      },
      "execution_count": null,
      "outputs": []
    },
    {
      "cell_type": "code",
      "source": [
        "pvaluescores = paired.pvalue\n",
        "pvaluescores"
      ],
      "metadata": {
        "id": "xqGPe-YntjH3"
      },
      "execution_count": null,
      "outputs": []
    },
    {
      "cell_type": "code",
      "source": [
        "# compare using p-value \n",
        "\n",
        "critical_pvalue = 0.025\n",
        "\n",
        "if pvaluescores < critical_pvalue:\n",
        "    print(\"Reject the Null\")\n",
        "else:\n",
        "    print(\"Fail to reject\")"
      ],
      "metadata": {
        "id": "_P-0J4xVtjLW"
      },
      "execution_count": null,
      "outputs": []
    },
    {
      "cell_type": "code",
      "source": [
        "# compare using t-score\n",
        "\n",
        "critical_tscore = 1.965\n",
        "\n",
        "if tscores > critical_tscore:\n",
        "    print(\"Reject the Null\")\n",
        "else:\n",
        "    print(\"Fail to reject\")"
      ],
      "metadata": {
        "id": "AHXaULXJtjOK"
      },
      "execution_count": null,
      "outputs": []
    },
    {
      "cell_type": "code",
      "source": [
        "Engstd = dfscores['English'].std()\n",
        "Engstd\n",
        "\n"
      ],
      "metadata": {
        "id": "1qyw1QpztnFg"
      },
      "execution_count": null,
      "outputs": []
    },
    {
      "cell_type": "code",
      "source": [
        "Mathstd = dfscores['Math'].std()\n",
        "Mathstd"
      ],
      "metadata": {
        "id": "gbRXADh6tnI4"
      },
      "execution_count": null,
      "outputs": []
    },
    {
      "cell_type": "code",
      "source": [
        "Mathstd - Engstd"
      ],
      "metadata": {
        "id": "yPV-Yg3OtnL2"
      },
      "execution_count": null,
      "outputs": []
    },
    {
      "cell_type": "code",
      "source": [
        "dfeng_math = dfscores[[\"English\", \"Math\"]]\n",
        "dfeng_math"
      ],
      "metadata": {
        "id": "yVLmczxWtnOr"
      },
      "execution_count": null,
      "outputs": []
    },
    {
      "cell_type": "code",
      "source": [
        "dfeng_math['English - Math'] = dfeng_math['English'] - dfeng_math['Math']"
      ],
      "metadata": {
        "id": "r5xfCHCLttxD"
      },
      "execution_count": null,
      "outputs": []
    },
    {
      "cell_type": "code",
      "source": [
        "dfeng_math.dropna(inplace = True)"
      ],
      "metadata": {
        "id": "_FOTulsitt0D"
      },
      "execution_count": null,
      "outputs": []
    },
    {
      "cell_type": "code",
      "source": [
        "dfeng_math.head()"
      ],
      "metadata": {
        "id": "-CzFM9Zntt8o"
      },
      "execution_count": null,
      "outputs": []
    },
    {
      "cell_type": "code",
      "source": [
        "dfeng_math.shape"
      ],
      "metadata": {
        "id": "FcaC-ZA2uGYa"
      },
      "execution_count": null,
      "outputs": []
    },
    {
      "cell_type": "code",
      "source": [
        "mean_Diff = dfeng_math['English - Math'].mean()\n",
        "mean_Diff"
      ],
      "metadata": {
        "id": "NKRiVdTZuGcB"
      },
      "execution_count": null,
      "outputs": []
    },
    {
      "cell_type": "code",
      "source": [
        "dfeng_math['d-dbar'] = dfeng_math['English - Math'] - mean_Diff\n",
        "\n",
        "dfeng_math"
      ],
      "metadata": {
        "id": "biv8LiKguGfp"
      },
      "execution_count": null,
      "outputs": []
    },
    {
      "cell_type": "code",
      "source": [
        "dfeng_math['d-dbar_sqr'] = dfeng_math['d-dbar']**2\n",
        "\n",
        "dfeng_math"
      ],
      "metadata": {
        "id": "GOaI4WtDuK_2"
      },
      "execution_count": null,
      "outputs": []
    },
    {
      "cell_type": "code",
      "source": [
        "dfeng_math['d-dbar_sqr'].sum()"
      ],
      "metadata": {
        "id": "xnMqHPEKuLDV"
      },
      "execution_count": null,
      "outputs": []
    },
    {
      "cell_type": "code",
      "source": [
        "print(len(dfeng_math))\n",
        "sigma_Diff = math.sqrt(dfeng_math['d-dbar_sqr'].sum()/(len(dfeng_math)-1))\n",
        "sigma_Diff"
      ],
      "metadata": {
        "id": "Ht0PmJveuLF9"
      },
      "execution_count": null,
      "outputs": []
    },
    {
      "cell_type": "code",
      "source": [
        "pairedtscore = (mean_Diff-0) / (sigma_Diff/math.sqrt(len(dfeng_math)))\n",
        "\n",
        "pairedtscore"
      ],
      "metadata": {
        "id": "DG4Di_ZPuPC3"
      },
      "execution_count": null,
      "outputs": []
    },
    {
      "cell_type": "code",
      "source": [
        "dfeng_math_mean = dfeng_math['English - Math'].mean()"
      ],
      "metadata": {
        "id": "L_CiwQOfuPHM"
      },
      "execution_count": null,
      "outputs": []
    },
    {
      "cell_type": "code",
      "source": [
        "dfeng_math_std = dfeng_math['English - Math'].std()"
      ],
      "metadata": {
        "id": "SFUoyzevuPKR"
      },
      "execution_count": null,
      "outputs": []
    },
    {
      "cell_type": "code",
      "source": [
        "dfeng_math_sqrt = math.sqrt(len(dfeng_math))"
      ],
      "metadata": {
        "id": "qoSXSTdFuGiU"
      },
      "execution_count": null,
      "outputs": []
    },
    {
      "cell_type": "code",
      "source": [
        "dfeng_math_tscore = dfeng_math_mean / (dfeng_math_std / dfeng_math_sqrt)\n",
        "\n",
        "dfeng_math_tscore"
      ],
      "metadata": {
        "id": "n7Uk3VT6uTjO"
      },
      "execution_count": null,
      "outputs": []
    },
    {
      "cell_type": "code",
      "source": [
        "# This is the p-value for one-side \n",
        "\n",
        "Paired_pvalue1 = sp.stats.t.sf(abs(36.31256898171988), df=397)\n",
        "Paired_pvalue1"
      ],
      "metadata": {
        "id": "qLgxX3qpuTm9"
      },
      "execution_count": null,
      "outputs": []
    },
    {
      "cell_type": "code",
      "source": [
        "# This is the p-value for two-side \n",
        "\n",
        "Paired_pvalue2 = sp.stats.t.sf(abs(36.31256898171988), df=397)*2\n",
        "Paired_pvalue2"
      ],
      "metadata": {
        "id": "gKoJ9vCPuTp3"
      },
      "execution_count": null,
      "outputs": []
    },
    {
      "cell_type": "code",
      "source": [
        "critical_tscore = 1.965\n",
        "\n",
        "if pairedtscore > critical_tscore:\n",
        "    print(\"Reject the Null\")\n",
        "else:\n",
        "    print(\"Fail to reject\")"
      ],
      "metadata": {
        "id": "0xLEfSpfuXX4"
      },
      "execution_count": null,
      "outputs": []
    },
    {
      "cell_type": "code",
      "source": [
        "critical_pvalue = 0.025\n",
        "\n",
        "if Paired_pvalue1 < critical_pvalue:\n",
        "    print(\"Reject the Null\")\n",
        "else:\n",
        "    print(\"Fail to reject\")"
      ],
      "metadata": {
        "id": "G9-HtgeSuXbv"
      },
      "execution_count": null,
      "outputs": []
    },
    {
      "cell_type": "code",
      "source": [
        "dfeng_math.head()"
      ],
      "metadata": {
        "id": "oJT-r8neuXeu"
      },
      "execution_count": null,
      "outputs": []
    },
    {
      "cell_type": "code",
      "source": [
        "dfeng_math[['English', 'Math']].plot(kind='box', figsize=(8,8));"
      ],
      "metadata": {
        "id": "TtNEMFYOudNu"
      },
      "execution_count": null,
      "outputs": []
    },
    {
      "cell_type": "code",
      "source": [
        "#plt.figure(figsize=(7,5))\n",
        "fig, axs = plt.subplots(ncols=2, figsize=(10,8))\n",
        "sns.violinplot(y=dfeng_math['English'], data=dfeng_math, ax=axs[0])\n",
        "sns.violinplot(y=dfeng_math['Math'], data=dfeng_math, ax=axs[1]);"
      ],
      "metadata": {
        "id": "_74aMzFJudRd"
      },
      "execution_count": null,
      "outputs": []
    },
    {
      "cell_type": "code",
      "source": [
        "fig, axs = plt.subplots(figsize=(8,8))\n",
        "df = pd.DataFrame(data=dfeng_math, columns=[\"English\", \"Math\"])\n",
        "sns.boxplot(x=\"variable\", y=\"value\", data=pd.melt(df))\n",
        "\n",
        "plt.show("
      ],
      "metadata": {
        "id": "OMfOeQkjudUx"
      },
      "execution_count": null,
      "outputs": []
    },
    {
      "cell_type": "code",
      "source": [
        "fig, axs = plt.subplots(figsize=(8,8))\n",
        "df = pd.DataFrame(data=dfeng_math, columns=[\"English\", \"Math\"])\n",
        "sns.violinplot(x=\"variable\", y=\"value\", data=pd.melt(df))\n",
        "plt.show()"
      ],
      "metadata": {
        "id": "NllSWEHDuhBV"
      },
      "execution_count": null,
      "outputs": []
    },
    {
      "cell_type": "code",
      "source": [
        ""
      ],
      "metadata": {
        "id": "bnxvemY9uhFT"
      },
      "execution_count": null,
      "outputs": []
    }
  ]
}