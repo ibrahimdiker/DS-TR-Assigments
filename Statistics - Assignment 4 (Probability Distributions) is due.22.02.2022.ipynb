{
  "nbformat": 4,
  "nbformat_minor": 0,
  "metadata": {
    "colab": {
      "name": "Untitled5.ipynb",
      "provenance": []
    },
    "kernelspec": {
      "name": "python3",
      "display_name": "Python 3"
    },
    "language_info": {
      "name": "python"
    }
  },
  "cells": [
    {
      "cell_type": "code",
      "execution_count": 1,
      "metadata": {
        "id": "0ys74w1FPv0I"
      },
      "outputs": [],
      "source": [
        "import numpy as np\n",
        "import scipy.stats as stats\n",
        "import matplotlib.pyplot as plt"
      ]
    },
    {
      "cell_type": "markdown",
      "source": [
        "EXERCISE 1. \n",
        "1.\tA salesperson has found that the probability of a sale on a single contact is approximately .3. If the salesperson contacts 10 prospects, what is the approximate probability of making at least one sale? (Wackerly, Ex.3.135)"
      ],
      "metadata": {
        "id": "IU5f6rlPR8zU"
      }
    },
    {
      "cell_type": "code",
      "source": [
        "p = 0.3\n",
        "n = 10\n",
        "at_least_one = 1 - stats.binom.cdf(0, n, p)\n",
        "at_least_one"
      ],
      "metadata": {
        "colab": {
          "base_uri": "https://localhost:8080/"
        },
        "id": "-hQIUwaPPwjK",
        "outputId": "bed018e8-61cc-4c57-b7d1-580990077a9e"
      },
      "execution_count": 2,
      "outputs": [
        {
          "output_type": "execute_result",
          "data": {
            "text/plain": [
              "0.9717524751000001"
            ]
          },
          "metadata": {},
          "execution_count": 2
        }
      ]
    },
    {
      "cell_type": "markdown",
      "source": [
        "2.\tTen coins are tossed simultaneously. Find the probability of getting"
      ],
      "metadata": {
        "id": "8YSu4QZUSAVb"
      }
    },
    {
      "cell_type": "markdown",
      "source": [
        "at least 7 head"
      ],
      "metadata": {
        "id": "fOh0JsjBRs0o"
      }
    },
    {
      "cell_type": "code",
      "source": [
        "p = 0.5\n",
        "n = 10\n",
        "b = stats.binom(n, p)\n",
        "sonuc = 1 - b.cdf(6)\n",
        "sonuc"
      ],
      "metadata": {
        "colab": {
          "base_uri": "https://localhost:8080/"
        },
        "id": "gxokUJJiPwpJ",
        "outputId": "36336ff1-1373-4818-864f-db92862abbfe"
      },
      "execution_count": 3,
      "outputs": [
        {
          "output_type": "execute_result",
          "data": {
            "text/plain": [
              "0.171875"
            ]
          },
          "metadata": {},
          "execution_count": 3
        }
      ]
    },
    {
      "cell_type": "markdown",
      "source": [
        "exactly 7 heads"
      ],
      "metadata": {
        "id": "v9SJqiXISEMN"
      }
    },
    {
      "cell_type": "code",
      "source": [
        "p = 0.5\n",
        "n = 10\n",
        "c = stats.binom(n, p)\n",
        "sonuc = c.pmf(7)\n",
        "sonuc"
      ],
      "metadata": {
        "colab": {
          "base_uri": "https://localhost:8080/"
        },
        "id": "EaLWjI_sPwsB",
        "outputId": "94a42299-e60a-45be-ad57-c0a1cc653a02"
      },
      "execution_count": 4,
      "outputs": [
        {
          "output_type": "execute_result",
          "data": {
            "text/plain": [
              "0.11718750000000014"
            ]
          },
          "metadata": {},
          "execution_count": 4
        }
      ]
    },
    {
      "cell_type": "markdown",
      "source": [
        "at most seven heads"
      ],
      "metadata": {
        "id": "MvqgDvxgSI9C"
      }
    },
    {
      "cell_type": "code",
      "source": [
        "p = 0.5\n",
        "n = 10\n",
        "c = stats.binom(n, p)\n",
        "sonuc = c.cdf(7)\n",
        "sonuc"
      ],
      "metadata": {
        "colab": {
          "base_uri": "https://localhost:8080/"
        },
        "id": "xwNSjuetPwuz",
        "outputId": "ad6d8bf7-6b3d-43ce-f9f6-0ee5953eec66"
      },
      "execution_count": 5,
      "outputs": [
        {
          "output_type": "execute_result",
          "data": {
            "text/plain": [
              "0.9453125"
            ]
          },
          "metadata": {},
          "execution_count": 5
        }
      ]
    },
    {
      "cell_type": "markdown",
      "source": [
        "EXERCISE 2. \n",
        "The cycle time for trucks hauling concrete to a highway construction site is uniformly distributed over the interval 50 to 70 minutes. What is the probability that the cycle time exceeds 65 minutes  if it is known that the cycle time exceeds 55 minutes? (Wackerly, Ex.4.51)\n"
      ],
      "metadata": {
        "id": "rfIdTRZdSNfF"
      }
    },
    {
      "cell_type": "code",
      "source": [
        "d =stats.uniform(50, 20)\n",
        "sonuc = (1- d.cdf(65))/(1-d.cdf(55))\n",
        "sonuc"
      ],
      "metadata": {
        "colab": {
          "base_uri": "https://localhost:8080/"
        },
        "id": "cQBKDJr6Pwxi",
        "outputId": "efefae84-0931-4348-b487-b86de4331565"
      },
      "execution_count": 6,
      "outputs": [
        {
          "output_type": "execute_result",
          "data": {
            "text/plain": [
              "0.3333333333333333"
            ]
          },
          "metadata": {},
          "execution_count": 6
        }
      ]
    },
    {
      "cell_type": "markdown",
      "source": [
        "EXERCISE 3. \n",
        "The width of bolts of fabric is normally distributed with mean 950 mm (millimeters) and standard deviation 10 mm.\n",
        "1.\tWhat is the probability that a randomly chosen bolt has a width of between 947 and 958mm?\n"
      ],
      "metadata": {
        "id": "_5DkHY3BSd6L"
      }
    },
    {
      "cell_type": "code",
      "source": [
        "mean = 950\n",
        "std = 10\n",
        "e = stats.norm(950, 10)\n",
        "sonuc = e.cdf(958) - e.cdf(947)\n",
        "sonuc"
      ],
      "metadata": {
        "colab": {
          "base_uri": "https://localhost:8080/"
        },
        "id": "LhjKYtplPw0U",
        "outputId": "75316a09-4fc3-4c3c-da20-721259b00f65"
      },
      "execution_count": 7,
      "outputs": [
        {
          "output_type": "execute_result",
          "data": {
            "text/plain": [
              "0.406056023605556"
            ]
          },
          "metadata": {},
          "execution_count": 7
        }
      ]
    },
    {
      "cell_type": "markdown",
      "source": [
        "2.\tWhat is the appropriate value for C such that a randomly chosen bolt has a width less than C with probability .8531? (Wackerly, Ex.4.73)"
      ],
      "metadata": {
        "id": "djyHcnrQSo1J"
      }
    },
    {
      "cell_type": "code",
      "source": [
        "sonuc = e.ppf(0.8531)\n",
        "sonuc"
      ],
      "metadata": {
        "colab": {
          "base_uri": "https://localhost:8080/"
        },
        "id": "fo2C3vWnPw3j",
        "outputId": "bfb23f5c-cd95-408e-e9c2-b8bc5f742412"
      },
      "execution_count": 8,
      "outputs": [
        {
          "output_type": "execute_result",
          "data": {
            "text/plain": [
              "960.4982190962642"
            ]
          },
          "metadata": {},
          "execution_count": 8
        }
      ]
    },
    {
      "cell_type": "markdown",
      "source": [
        "EXERCISE 4. \n",
        "Suppose scores on exams in statistics are normally distributed with an unknown population mean and a population standard deviation of 3 points. A random sample of 36 scores is taken and gives a sample mean (sample mean score) of 68. Find a confidence interval estimate for the population mean exam score (the mean score on all exams). Find a 90% confidence interval for the true (population) mean of statistics exam scores.\n"
      ],
      "metadata": {
        "id": "qF_HYPe1S0XR"
      }
    },
    {
      "cell_type": "code",
      "source": [
        "# std/np.sqrt(n)\n",
        "f = stats.norm.interval(0.9, 68, 3/36**0.5)\n",
        "f"
      ],
      "metadata": {
        "colab": {
          "base_uri": "https://localhost:8080/"
        },
        "id": "PeeR-2SRSw1p",
        "outputId": "ca19df70-dbe3-4646-db57-5a37b6cd8f57"
      },
      "execution_count": 9,
      "outputs": [
        {
          "output_type": "execute_result",
          "data": {
            "text/plain": [
              "(67.17757318652427, 68.82242681347573)"
            ]
          },
          "metadata": {},
          "execution_count": 9
        }
      ]
    },
    {
      "cell_type": "markdown",
      "source": [
        "EXERCISE 5.  \n",
        "What is the normal body temperature for healthy humans? A random sample of 130 healthy human body temperatures provided by Allen Shoemaker yielded 98.25 degrees and standard deviation 0.73 degrees.\n",
        "1.\tGive a 99% confidence interval for the average body temperature of healthy people.\n"
      ],
      "metadata": {
        "id": "lMvO1k5pTBig"
      }
    },
    {
      "cell_type": "code",
      "source": [
        "g = stats.norm.interval(0.99, 98.25, 0.73/np.sqrt(130))\n",
        "g"
      ],
      "metadata": {
        "colab": {
          "base_uri": "https://localhost:8080/"
        },
        "id": "dYKWHqzxSxDC",
        "outputId": "6204176d-6f10-4ccc-c21b-108220a2019b"
      },
      "execution_count": 10,
      "outputs": [
        {
          "output_type": "execute_result",
          "data": {
            "text/plain": [
              "(98.08508192246582, 98.41491807753418)"
            ]
          },
          "metadata": {},
          "execution_count": 10
        }
      ]
    }
  ]
}